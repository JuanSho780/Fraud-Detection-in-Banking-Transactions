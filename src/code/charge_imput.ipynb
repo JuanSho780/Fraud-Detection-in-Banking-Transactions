{
 "cells": [
  {
   "cell_type": "code",
   "execution_count": 22,
   "id": "c7892e78",
   "metadata": {},
   "outputs": [],
   "source": [
    "import pandas as pd\n",
    "from sklearn.preprocessing import OrdinalEncoder, OneHotEncoder\n",
    "from sklearn.experimental import enable_iterative_imputer\n",
    "from sklearn.impute import IterativeImputer"
   ]
  },
  {
   "cell_type": "code",
   "execution_count": 23,
   "id": "70d62d70",
   "metadata": {},
   "outputs": [],
   "source": [
    "def load():\n",
    "    path = '../data/credir_risk_reto.xlsx'\n",
    "    data = pd.read_excel(path)\n",
    "\n",
    "    print(\"DATA HEAD\")\n",
    "    print()\n",
    "    print(data.head())\n",
    "\n",
    "    print(\"DATA TYPES AND FEATURES\")\n",
    "    print()\n",
    "    print(data.info()) #Getting data type and features info\n",
    "    print(\"-\"*100)\n",
    "    print()\n",
    "    print(\"MISSING VALUES\")\n",
    "    print()\n",
    "    print(data.isna().sum()) #Getting the number of missing values per feature\n",
    "    print(\"-\"*100)\n",
    "    print()\n",
    "\n",
    "    return data"
   ]
  },
  {
   "cell_type": "code",
   "execution_count": 29,
   "id": "584245a0",
   "metadata": {},
   "outputs": [],
   "source": [
    "def impute(data):\n",
    "    # We have missing values in these features: Saving accounts --> 183 | Checking account --> 394 (both categorical features)\n",
    "    # I selected to use MICE imputation (secuencial regressor for non-monotone missing values)\n",
    "    \n",
    "    # First we are gonna encode the categorical features with ordinal encoder (just for the imputation process)\n",
    "    categorical_features = ['Sex', 'Housing', 'Saving accounts', 'Checking account', 'Purpose']\n",
    "    ordinal_encoder = OrdinalEncoder()\n",
    "    data[categorical_features] = ordinal_encoder.fit_transform(data[categorical_features])\n",
    "\n",
    "    # Apply MICE imputation (IterativeImputer)\n",
    "    imputer = IterativeImputer(random_state=42)\n",
    "    data_imputed = imputer.fit_transform(data)\n",
    "    \n",
    "    # Convert the DF again with his column names\n",
    "    data_imputed = pd.DataFrame(data_imputed, columns=data.columns)\n",
    "    \n",
    "    # Round the values imputed and convert it into int to decode\n",
    "    data_imputed[categorical_features] = data_imputed[categorical_features].round().astype(int)\n",
    "    \n",
    "    # Return to the original categorical values (decode)\n",
    "    data_imputed[categorical_features] = ordinal_encoder.inverse_transform(data_imputed[categorical_features])\n",
    "    data_imputed.to_excel(\"../data/credit_risk_imputed.xlsx\", index=False)"
   ]
  },
  {
   "cell_type": "code",
   "execution_count": 28,
   "id": "8a9e4f20",
   "metadata": {},
   "outputs": [],
   "source": [
    "def main():\n",
    "    data = load()\n",
    "    impute(data)"
   ]
  },
  {
   "cell_type": "code",
   "execution_count": 27,
   "id": "dd4b8465",
   "metadata": {},
   "outputs": [
    {
     "name": "stdout",
     "output_type": "stream",
     "text": [
      "DATA HEAD\n",
      "\n",
      "   Age     Sex  Job Housing Saving accounts Checking account  Credit amount  \\\n",
      "0   67    male    2     own             NaN           little           1169   \n",
      "1   22  female    2     own          little         moderate           5951   \n",
      "2   49    male    1     own          little              NaN           2096   \n",
      "3   45    male    2    free          little           little           7882   \n",
      "4   53    male    2    free          little           little           4870   \n",
      "\n",
      "   Duration              Purpose  \n",
      "0         6             radio/TV  \n",
      "1        48             radio/TV  \n",
      "2        12            education  \n",
      "3        42  furniture/equipment  \n",
      "4        24                  car  \n",
      "DATA TYPES AND FEATURES\n",
      "\n",
      "<class 'pandas.core.frame.DataFrame'>\n",
      "RangeIndex: 1000 entries, 0 to 999\n",
      "Data columns (total 9 columns):\n",
      " #   Column            Non-Null Count  Dtype \n",
      "---  ------            --------------  ----- \n",
      " 0   Age               1000 non-null   int64 \n",
      " 1   Sex               1000 non-null   object\n",
      " 2   Job               1000 non-null   int64 \n",
      " 3   Housing           1000 non-null   object\n",
      " 4   Saving accounts   817 non-null    object\n",
      " 5   Checking account  606 non-null    object\n",
      " 6   Credit amount     1000 non-null   int64 \n",
      " 7   Duration          1000 non-null   int64 \n",
      " 8   Purpose           1000 non-null   object\n",
      "dtypes: int64(4), object(5)\n",
      "memory usage: 70.4+ KB\n",
      "None\n",
      "----------------------------------------------------------------------------------------------------\n",
      "\n",
      "MISSING VALUES\n",
      "\n",
      "Age                   0\n",
      "Sex                   0\n",
      "Job                   0\n",
      "Housing               0\n",
      "Saving accounts     183\n",
      "Checking account    394\n",
      "Credit amount         0\n",
      "Duration              0\n",
      "Purpose               0\n",
      "dtype: int64\n",
      "----------------------------------------------------------------------------------------------------\n",
      "\n"
     ]
    }
   ],
   "source": [
    "main()"
   ]
  }
 ],
 "metadata": {
  "kernelspec": {
   "display_name": ".venv",
   "language": "python",
   "name": "python3"
  },
  "language_info": {
   "codemirror_mode": {
    "name": "ipython",
    "version": 3
   },
   "file_extension": ".py",
   "mimetype": "text/x-python",
   "name": "python",
   "nbconvert_exporter": "python",
   "pygments_lexer": "ipython3",
   "version": "3.11.9"
  }
 },
 "nbformat": 4,
 "nbformat_minor": 5
}
