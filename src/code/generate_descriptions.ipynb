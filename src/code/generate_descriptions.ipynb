{
 "cells": [
  {
   "cell_type": "code",
   "execution_count": 5,
   "id": "a2be9846",
   "metadata": {},
   "outputs": [],
   "source": [
    "import pandas as pd\n",
    "import boto3\n",
    "import json\n",
    "from dotenv import load_dotenv"
   ]
  },
  {
   "cell_type": "code",
   "execution_count": null,
   "id": "8701803d",
   "metadata": {},
   "outputs": [],
   "source": [
    "def load():\n",
    "    path = '../data/credit_risk_imputed.csv'\n",
    "    data = pd.read_excel(path)\n",
    "    \n",
    "    print(data.info())\n",
    "\n",
    "    return data"
   ]
  },
  {
   "cell_type": "code",
   "execution_count": null,
   "id": "097d94e2",
   "metadata": {},
   "outputs": [],
   "source": [
    "def generate_prompt(row):\n",
    "    return f\"\"\"Profile Summary:\n",
    "Age: {row['Age']}, Sex: {row['Sex']}, Job: {row['Job']}, \n",
    "Housing: {row['Housing']}, Savings account: {row['Saving accounts']}, \n",
    "Checking account: {row['Checking account']}, Credit amount: {row['Credit amount']}, \n",
    "Loan duration (months): {row['Duration']}, Purpose: {row['Purpose']}.\n",
    "Generate a brief description of this person's credit risk.\n",
    "\"\"\""
   ]
  },
  {
   "cell_type": "code",
   "execution_count": null,
   "id": "af15f94a",
   "metadata": {},
   "outputs": [],
   "source": [
    "bedrock_runtime = boto3.client('bedrock-runtime')\n",
    "\n",
    "def obtener_descripcion(prompt):\n",
    "    response = bedrock_runtime.invoke_model(\n",
    "        modelId='anthropic.claude-3-sonnet-20240229-v1:0',  # o llama, titan, etc.\n",
    "        contentType='application/json',\n",
    "        body=json.dumps({\n",
    "            \"prompt\": prompt,\n",
    "            \"max_tokens\": 100\n",
    "        })\n",
    "    )\n",
    "    return json.loads(response['body'].read())['completion']\n"
   ]
  },
  {
   "cell_type": "code",
   "execution_count": null,
   "id": "1483c305",
   "metadata": {},
   "outputs": [],
   "source": [
    "def main():\n",
    "    load_dotenv()\n",
    "    data = load()\n",
    "    data[\"prompt\"] = data.apply(generate_prompt, axis=1)\n",
    "    data[\"description\"] = data[\"prompt\"].apply(obtener_descripcion)\n",
    "    data.to_csv(\"credit_risk_with_descriptions.csv\", index=False)"
   ]
  },
  {
   "cell_type": "code",
   "execution_count": null,
   "id": "b168e8b1",
   "metadata": {},
   "outputs": [],
   "source": [
    "main()"
   ]
  }
 ],
 "metadata": {
  "kernelspec": {
   "display_name": ".venv",
   "language": "python",
   "name": "python3"
  },
  "language_info": {
   "codemirror_mode": {
    "name": "ipython",
    "version": 3
   },
   "file_extension": ".py",
   "mimetype": "text/x-python",
   "name": "python",
   "nbconvert_exporter": "python",
   "pygments_lexer": "ipython3",
   "version": "3.11.9"
  }
 },
 "nbformat": 4,
 "nbformat_minor": 5
}
